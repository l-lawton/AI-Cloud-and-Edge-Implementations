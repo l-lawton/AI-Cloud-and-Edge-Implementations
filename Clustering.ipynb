{
  "nbformat": 4,
  "nbformat_minor": 0,
  "metadata": {
    "colab": {
      "provenance": []
    },
    "kernelspec": {
      "name": "python3",
      "display_name": "Python 3"
    },
    "language_info": {
      "name": "python"
    }
  },
  "cells": [
    {
      "cell_type": "markdown",
      "source": [
        "# Introduction\n",
        "\n",
        "The notebook contains 4 exercises in total:\n",
        "\n",
        "* [Exercise 1](#ex_1)\n",
        "* [Exercise 2](#ex_2)\n",
        "* [Exercise 3](#ex_3)\n",
        "* [Exercise 4](#ex_4)\n"
      ],
      "metadata": {
        "id": "STI9eNmTm1u0"
      }
    },
    {
      "cell_type": "markdown",
      "source": [
        "**Clustering** is the task of dividing the population or data points into a number of groups such that data points in the same groups are more similar to other data points in the same group than those in other groups. In simple words, the aim is to segregate groups with similar traits and assign them into clusters.\n",
        "\n",
        "There are many types of clustering models: \n",
        "\n",
        "- **Connectivity models**: As the name suggests, these models are based on the notion that the data points closer in data space exhibit more similarity to each other than the data points lying farther away. These models can follow two approaches. In the first approach, they start with classifying all data points into separate clusters & then aggregating them as the distance decreases. In the second approach, all data points are classified as a single cluster and then partitioned as the distance increases. Also, the choice of distance function is subjective. These models are very easy to interpret but lacks scalability for handling big datasets. Examples of these models are hierarchical clustering algorithm and its variants.\n",
        "\n",
        "- **Centroid models**: These are iterative clustering algorithms in which the notion of similarity is derived by the closeness of a data point to the centroid of the clusters. **K-Means clustering algorithm** is a popular algorithm that falls into this category. In these models, the no. of clusters required at the end have to be mentioned beforehand, which makes it important to have prior knowledge of the dataset. These models run iteratively to find the local optima.\n",
        "\n",
        "- **Distribution models**: These clustering models are based on the notion of how probable is it that all data points in the cluster belong to the same distribution (For example: Normal, Gaussian). These models often suffer from overfitting. A popular example of these models is Expectation-maximization algorithm which uses multivariate normal distributions.\n",
        "\n",
        "\n",
        "- **Density Models**: These models search the data space for areas of varied density of data points in the data space. It isolates various different density regions and assign the data points within these regions in the same cluster. Popular examples of density models are DBSCAN and OPTICS.\n",
        "\n",
        "In the following we will study one of the most popular models for clustering: **K means**.\n",
        "\n",
        "\n",
        "- **K-Means clustering** is the most popular unsupervised learning algorithm that is used for clustering. It is used when we have unlabelled data which is data without defined categories or groups. The algorithm follows an easy or simple way to classify a given data set through a certain number of clusters, fixed apriori. K-Means algorithm works iteratively to assign each data point to one of K groups based on the features that are provided. Data points are clustered based on feature similarity.\n",
        "\n",
        "  K-Means clustering is the most common unsupervised machine learning algorithm. It is widely used for many applications which include: \n",
        "\n",
        "  - Image segmentation\n",
        "  - Customer segmentation\n",
        "  - Species clustering\n",
        "  - Anomaly detection\n",
        "  - Clustering languages\n",
        "\n",
        "  K-Means clustering is used to find intrinsic groups within the unlabelled dataset and draw inferences from them. It is based on centroid-based clustering. What's a centroid ? \n",
        "\n",
        "  **Centroid** is a data point at the centre of a cluster. In centroid-based clustering, clusters are represented by a centroid. It is an iterative algorithm in which the notion of similarity is derived by how close a data point is to the centroid of the cluster. \n",
        "\n",
        "  K-Means clustering works as follows:\n",
        "\n",
        "  - The K-Means clustering algorithm uses an iterative procedure to deliver a final result. \n",
        "  - The algorithm requires number of clusters K and the data set as input. \n",
        "  - The data set is a collection of features for each data point. \n",
        "  - The algorithm starts with initial estimates for the K centroids. \n",
        "\n"
      ],
      "metadata": {
        "id": "sQH-6d1im7yi"
      }
    },
    {
      "cell_type": "markdown",
      "source": [
        "# Application"
      ],
      "metadata": {
        "id": "jw0RGAH-n5JC"
      }
    },
    {
      "cell_type": "markdown",
      "source": [
        "## Goal\n",
        "\n",
        "The goal of this notebook is to show how k-means works to cluster handwritten digits. \n",
        "\n",
        "## Dataset Description\n",
        "\n",
        "The used dataset is the digits dataset (datasets.load_digits()). This dataset The digits dataset consists of 8x8 pixel images of digits. The \"images\" attribute of the dataset stores 8x8 arrays of grayscale values for each image. The \"target\" attribute of the dataset stores the digit each image represents."
      ],
      "metadata": {
        "id": "rYBs9Z4Hn3Cj"
      }
    },
    {
      "cell_type": "markdown",
      "source": [
        "# 1. Import libraries"
      ],
      "metadata": {
        "id": "_BHNMnNroQMC"
      }
    },
    {
      "cell_type": "markdown",
      "source": [
        "In the following we will be using: \n",
        "\n",
        "\n",
        "- **Sklearn**: Scikit-learn is one of the most useful library for machine learning in Python. The sklearn library contains a lot of efficient tools for machine learning and statistical modeling including classification, regression, clustering and dimensionality reduction.\n",
        "\n",
        "- **Numpy**: NumPy is a Python library used for working with arrays. It also has functions for working in domain of linear algebra, fourier transform, and matrices.  \n",
        "\n",
        "- **Pandas**: Pandas makes it simple to do many of the time consuming, repetitive tasks associated with working with data, including:\n",
        " - Data cleansing\n",
        " - Data fill\n",
        " - Data normalization\n",
        " - Merges and joins\n",
        " - Data visualization\n",
        " - Statistical analysis\n",
        " - Data inspection\n",
        " - Loading and saving data\n",
        "\n",
        "- **Matplotlib**: Matplotlib is a comprehensive library for creating static, animated, and interactive visualizations in Python. Matplotlib makes easy things easy and hard things possible.\n",
        "\n",
        "\n",
        "- **Seaborn**: Seaborn is a library that uses Matplotlib underneath to plot graphs. It will be used to visualize random distributions."
      ],
      "metadata": {
        "id": "rLvNftY9oWiU"
      }
    },
    {
      "cell_type": "code",
      "execution_count": null,
      "metadata": {
        "id": "pQ78alplmc6R"
      },
      "outputs": [],
      "source": [
        "import numpy as np \n",
        "import pandas as pd \n",
        "from sklearn.datasets import load_digits\n",
        "from sklearn.cluster import KMeans\n",
        "from sklearn.decomposition import PCA\n",
        "import matplotlib.pyplot as plt\n",
        "from sklearn.preprocessing import scale\n",
        "from sklearn.model_selection import train_test_split\n",
        "from sklearn import metrics\n",
        "import seaborn as sns"
      ]
    },
    {
      "cell_type": "markdown",
      "source": [
        "# 2. Load the dataset"
      ],
      "metadata": {
        "id": "ey6awZOpo8Oz"
      }
    },
    {
      "cell_type": "code",
      "source": [
        "#load is used to load datasets of the sklearn.datasets \n",
        "digits = load_digits()"
      ],
      "metadata": {
        "id": "geb22K48sVzF"
      },
      "execution_count": null,
      "outputs": []
    },
    {
      "cell_type": "code",
      "source": [
        "#\"scale\" function is an inbuilt function in the Python sklearn.preprocessing library which is used to change the image size by scaling each pixel value by given columns and rows.\n",
        "data = scale(digits.data)"
      ],
      "metadata": {
        "id": "-_mAWIJC6j-0"
      },
      "execution_count": null,
      "outputs": []
    },
    {
      "cell_type": "markdown",
      "source": [
        "# 3. Feature engineering"
      ],
      "metadata": {
        "id": "gKbxNVcHrOHd"
      }
    },
    {
      "cell_type": "markdown",
      "source": [
        "The goal of this step is simplifying and speeding up data transformations while also enhancing model accuracy. \n",
        "\n",
        "There are many approaches that can be taken into consideration: \n",
        "\n",
        "- **Feature Creation**: Creating features involves creating new variables which will be most helpful for our model. This can be adding or removing some features. \n",
        "\n",
        "- **Transformations**: Feature transformation is simply a function that transforms features from one representation to another. The goal here is to plot and visualise data, if something is not adding up with the new features we can reduce the number of features used, speed up training, or increase the accuracy of a certain model.\n",
        "\n",
        "- **Feature Extraction**: Feature extraction is the process of extracting features from a data set to identify useful information. Without distorting the original relationships or significant information, this compresses the amount of data into manageable quantities for algorithms to process.\n",
        "\n",
        "- **Exploratory Data Analysis**: Exploratory data analysis (EDA) is a powerful and simple tool that can be used to improve your understanding of your data, by exploring its properties. The technique is often applied when the goal is to create new hypotheses or find patterns in the data. It’s often used on large amounts of qualitative or quantitative data that haven’t been analyzed before.\n",
        "\n",
        "- **Benchmark**: A Benchmark Model is the most user-friendly, dependable, transparent, and interpretable model against which you can measure your own.\n",
        "\n",
        "In the following we will start by discovering how the dataset look like. \n"
      ],
      "metadata": {
        "id": "t6l1CC3J7daE"
      }
    },
    {
      "cell_type": "code",
      "source": [
        "\"\"\"\n",
        "This function is defined to visualize some of the 10 clusters of the dataset\n",
        "\"\"\"\n",
        "\n",
        "import matplotlib.pyplot as plt\n",
        "\n",
        "def print_digits(images,y,max_n=10):\n",
        "    # set up the figure size in inches\n",
        "    fig = plt.figure(figsize=(12, 12))\n",
        "    fig.subplots_adjust(left=0, right=1, bottom=0, top=1, hspace=0.05, wspace=0.05)\n",
        "    i = 0\n",
        "    while i < max_n and i < images.shape[0]:\n",
        "        # plot the images in a matrix of 20x20\n",
        "        p = fig.add_subplot(20, 20, i + 1, xticks=[], yticks=[])\n",
        "        p.imshow(images[i], cmap=plt.cm.bone)\n",
        "        # label the image with the target value\n",
        "        p.text(0, 14, str(y[i]))\n",
        "        i = i + 1\n",
        "    \n",
        "print_digits(digits.images, digits.target, max_n=10)\n",
        "\n",
        "plt.gray()\n",
        "plt.matshow()\n",
        "plt.show()"
      ],
      "metadata": {
        "id": "tLnC_7HWsunU",
        "colab": {
          "base_uri": "https://localhost:8080/",
          "height": 108
        },
        "outputId": "4a1fd4c2-a6bc-4814-dda1-a45cf04c71de"
      },
      "execution_count": null,
      "outputs": [
        {
          "output_type": "display_data",
          "data": {
            "text/plain": [
              "<Figure size 864x864 with 10 Axes>"
            ],
            "image/png": "[encoded data removed]"
          },
          "metadata": {}
        }
      ]
    },
    {
      "cell_type": "markdown",
      "source": [
        "<a name=\"ex_1\"></a>\n",
        "## Exercise 1"
      ],
      "metadata": {
        "id": "2Pb9WTUhQWJb"
      }
    },
    {
      "cell_type": "code",
      "source": [
        "# Without defining a new function as in the code block above, plot the different digits (10 clusters) of the dataset only using gray(), matshow(), show() functions of the matplotlib.pyplot \n",
        "#edited above"
      ],
      "metadata": {
        "id": "mVvPp2R4QaCs"
      },
      "execution_count": null,
      "outputs": []
    },
    {
      "cell_type": "markdown",
      "source": [
        "We already scaled the dataset when we first upload it to our workplace, now we shape using the \"reshape function\"."
      ],
      "metadata": {
        "id": "8sNOZiVg9hu1"
      }
    },
    {
      "cell_type": "code",
      "source": [
        "#returns the shape of teh first image in the dataset \n",
        "number_of_instances=digits.images.shape[0]\n",
        "#Splitting the training and testing dataset (defining the target variable)\n",
        "X_train, X_test, y_train, y_test, images_train, images_test = train_test_split(\n",
        "        data, digits.target, digits.images.reshape(number_of_instances,64),test_size=0.5, random_state=42)\n",
        "#Returns the number of samples and features in the training set \n",
        "n_samples, n_features = X_train.shape\n",
        "#returns the length of the labels (y_train) of only unique values\n",
        "n_digits = len(np.unique(y_train))\n",
        "labels = y_train\n",
        "\n",
        "# Reshape images back\n",
        "images_train=images_train.reshape(images_train.shape[0],8,8)\n",
        "images_test=images_test.reshape(images_test.shape[0],8,8)\n",
        "\n",
        "#visualization of the different digits \n",
        "print_digits(images_train, y_train, max_n=20)\n",
        "print_digits(images_test, y_test, max_n=20)\n",
        "\n",
        "print(\"n_digits: %d, \\t n_samples %d, \\t n_features %d\"\n",
        "      % (n_digits, n_samples, n_features))"
      ],
      "metadata": {
        "id": "PBQdgJ9ev0bk",
        "colab": {
          "base_uri": "https://localhost:8080/",
          "height": 216
        },
        "outputId": "642a4b75-5a80-4516-fa60-0c1e2d819091"
      },
      "execution_count": null,
      "outputs": [
        {
          "output_type": "stream",
          "name": "stdout",
          "text": [
            "n_digits: 10, \t n_samples 898, \t n_features 64\n"
          ]
        },
        {
          "output_type": "display_data",
          "data": {
            "text/plain": [
              "<Figure size 864x864 with 20 Axes>"
            ],
            "image/png": "[encoded data removed]"
          },
          "metadata": {}
        },
        {
          "output_type": "display_data",
          "data": {
            "text/plain": [
              "<Figure size 864x864 with 20 Axes>"
            ],
            "image/png": "[encoded data removed]"
          },
          "metadata": {}
        }
      ]
    },
    {
      "cell_type": "markdown",
      "source": [
        "<a name=\"ex_2\"></a>\n",
        "## Exercise 2"
      ],
      "metadata": {
        "id": "Aozi1GF0Qr_s"
      }
    },
    {
      "cell_type": "code",
      "source": [
        "#After running this notebook,\n",
        "#Change the \"test_size\" and see what is the impact of the results of the model"
      ],
      "metadata": {
        "id": "oDxmjqPVQtfF"
      },
      "execution_count": null,
      "outputs": []
    },
    {
      "cell_type": "markdown",
      "source": [
        "# 4. Training the Kmeans model"
      ],
      "metadata": {
        "id": "qZzfv65UAq88"
      }
    },
    {
      "cell_type": "code",
      "source": [
        "#Kmeans is a cluster class provided by the sklearn package: \n",
        "\"\"\"\n",
        "KMeans(n_clusters=8, *, init='k-means++', n_init=10, max_iter=300, tol=0.0001, verbose=0, random_state=None, copy_x=True, algorithm='lloyd')\n",
        "Note : The k-means problem is solved using either Lloyd’s or Elkan’s algorithm.\n",
        "\"\"\"\n",
        "clustering_features = KMeans(init='k-means++', n_clusters=10, random_state=42)\n",
        "#the \"fit()\" function implements a fit method to learn from data\n",
        "clustering_features.fit(X_train)\n",
        "#Printing Number of labels(from 1 to 10)\n",
        "print (clustering_features.labels_.shape)\n",
        "print (clustering_features.labels_[1:10])\n",
        "print_digits(images_train, clustering_features.labels_, max_n=10)"
      ],
      "metadata": {
        "id": "wAjI8VwpwLvU",
        "colab": {
          "base_uri": "https://localhost:8080/",
          "height": 143
        },
        "outputId": "2cdb98b5-720f-423a-e2b6-a5172f479590"
      },
      "execution_count": null,
      "outputs": [
        {
          "output_type": "stream",
          "name": "stdout",
          "text": [
            "(898,)\n",
            "[3 6 3 1 2 6 2 3 4]\n"
          ]
        },
        {
          "output_type": "display_data",
          "data": {
            "text/plain": [
              "<Figure size 864x864 with 10 Axes>"
            ],
            "image/png": "[encoded data removed]"
          },
          "metadata": {}
        }
      ]
    },
    {
      "cell_type": "markdown",
      "source": [
        "After training, we want to visualize the results of the clustering. We are printing 10 groups of predicted cluster and ground truth cluster. \n"
      ],
      "metadata": {
        "id": "hA0O-okiA0I8"
      }
    },
    {
      "cell_type": "code",
      "source": [
        "#The predict() function returns the labels of the data passed as argument (X_test) based upon the learned or trained data (clustering_features) obtained from the model.\n",
        "y_pred = clustering_features.predict(X_test)\n",
        "#Show clustered \n",
        "def print_clustered(images, y_pred, cluster_number):\n",
        "    images = images[y_pred==cluster_number]\n",
        "    y_pred = y_pred[y_pred==cluster_number]\n",
        "    print_digits(images, y_pred, max_n=10)\n",
        "\n",
        "for i in range(10):\n",
        "     print_clustered(images_test, y_pred, i)"
      ],
      "metadata": {
        "id": "IxC78j1Dwo_O",
        "colab": {
          "base_uri": "https://localhost:8080/",
          "height": 706
        },
        "outputId": "1adcbae1-18b8-4898-e0cc-c815d3ffbcde"
      },
      "execution_count": null,
      "outputs": [
        {
          "output_type": "display_data",
          "data": {
            "text/plain": [
              "<Figure size 864x864 with 10 Axes>"
            ],
            "image/png": "[encoded data removed]"
          },
          "metadata": {}
        },
        {
          "output_type": "display_data",
          "data": {
            "text/plain": [
              "<Figure size 864x864 with 10 Axes>"
            ],
            "image/png": "[encoded data removed]"
          },
          "metadata": {}
        },
        {
          "output_type": "display_data",
          "data": {
            "text/plain": [
              "<Figure size 864x864 with 10 Axes>"
            ],
            "image/png": "[encoded data removed]"
          },
          "metadata": {}
        },
        {
          "output_type": "display_data",
          "data": {
            "text/plain": [
              "<Figure size 864x864 with 10 Axes>"
            ],
            "image/png": "[encoded data removed]"
          },
          "metadata": {}
        },
        {
          "output_type": "display_data",
          "data": {
            "text/plain": [
              "<Figure size 864x864 with 10 Axes>"
            ],
            "image/png": "[encoded data removed]"
          },
          "metadata": {}
        },
        {
          "output_type": "display_data",
          "data": {
            "text/plain": [
              "<Figure size 864x864 with 10 Axes>"
            ],
            "image/png": "[encoded data removed]"
          },
          "metadata": {}
        },
        {
          "output_type": "display_data",
          "data": {
            "text/plain": [
              "<Figure size 864x864 with 10 Axes>"
            ],
            "image/png": "[encoded data removed]"
          },
          "metadata": {}
        },
        {
          "output_type": "display_data",
          "data": {
            "text/plain": [
              "<Figure size 864x864 with 0 Axes>"
            ]
          },
          "metadata": {}
        },
        {
          "output_type": "display_data",
          "data": {
            "text/plain": [
              "<Figure size 864x864 with 0 Axes>"
            ]
          },
          "metadata": {}
        },
        {
          "output_type": "display_data",
          "data": {
            "text/plain": [
              "<Figure size 864x864 with 0 Axes>"
            ]
          },
          "metadata": {}
        }
      ]
    },
    {
      "cell_type": "markdown",
      "source": [
        "# 5. Model evaluation"
      ],
      "metadata": {
        "id": "LIGA7wjIqLoK"
      }
    },
    {
      "cell_type": "markdown",
      "source": [
        "\n",
        "\n",
        "\n",
        "There are many metrics that can be used to evaluate the performance of a clustering model: \n",
        "\n",
        "* adjusted (or unadjusted) Rand index: is a function that measures the similarity of the two assignments, ignoring permutations\n",
        "\n",
        "* Homogeneity, completeness and V-measure: \n",
        "\n",
        "- homogeneity: each cluster contains only members of a single class.\n",
        "\n",
        "- completeness: all members of a given class are assigned to the same cluster.\n",
        "\n",
        "* Fowlkes-Mallows scores: can be used when the ground truth class assignments of the samples is known. \n",
        "\n",
        "\n",
        "In the following we will use 4 metrics: adjusted rand score, homogeneity, completeness and v-measure. \n"
      ],
      "metadata": {
        "id": "f6zGpEIrBMDG"
      }
    },
    {
      "cell_type": "code",
      "source": [
        "#The Rand Index computes a similarity measure between two clusterings by considering all pairs of samples and counting pairs that are assigned in the same or different clusters \n",
        "print(\"Addjusted rand score:{:.2}\".format(metrics.adjusted_rand_score(y_test, y_pred)))\n",
        "#The Homogeneity score is used to see if a result satisfies homogeneity if all of its clusters contain only data points which are members of a single class.\n",
        "print(\"Homogeneity score:{:.2} \".format(metrics.homogeneity_score(y_test, y_pred)))\n",
        "#the Completeness score is used to verify if all the data points that are members of a given class are elements of the same cluster\n",
        "print(\"Completeness score: {:.2} \".format(metrics.completeness_score(y_test, y_pred)))\n",
        "#The V-measure is the harmonic mean between homogeneity and completeness\n",
        "print(\"the V measure of the Kmeans model is : {:.2} \".format(metrics.v_measure_score(y_test, y_pred)))"
      ],
      "metadata": {
        "id": "vB1Z1N5Lw0Tt",
        "colab": {
          "base_uri": "https://localhost:8080/"
        },
        "outputId": "d958ec01-950c-4ef3-b6bc-0c63d8f68b80"
      },
      "execution_count": null,
      "outputs": [
        {
          "output_type": "stream",
          "name": "stdout",
          "text": [
            "Addjusted rand score:0.38\n",
            "Homogeneity score:0.49 \n",
            "Completeness score: 0.6 \n",
            "the V measure of the Kmeans model is : 0.54 \n"
          ]
        }
      ]
    },
    {
      "cell_type": "markdown",
      "source": [
        "<a name=\"ex_3\"></a>\n",
        "##Exercise 3"
      ],
      "metadata": {
        "id": "5lcfvnLyRKjC"
      }
    },
    {
      "cell_type": "code",
      "source": [
        "#Knowing that there are different other metrics for clustering: https://scikit-learn.org/stable/modules/classes.html#module-sklearn.metrics \n",
        "\n",
        "#Add more clustering metrics and print their results\n",
        "\n",
        "\n",
        "print(format(metrics.mutual_info_score(y_test, y_pred)))\n",
        "\n",
        "print(format(metrics.rand_score(y_test, y_pred)))"
      ],
      "metadata": {
        "id": "rq_PfqCBRMF8",
        "colab": {
          "base_uri": "https://localhost:8080/"
        },
        "outputId": "e71226b7-4690-44c2-fc01-33e1bba61ad0"
      },
      "execution_count": null,
      "outputs": [
        {
          "output_type": "stream",
          "name": "stdout",
          "text": [
            "1.128167220786211\n",
            "0.8573569742178268\n"
          ]
        }
      ]
    },
    {
      "cell_type": "code",
      "source": [
        "#Creating confusion matrix: \n",
        "cf_matrix = metrics.confusion_matrix(y_test, y_pred)\n",
        "sns.heatmap(cf_matrix, annot=True)"
      ],
      "metadata": {
        "id": "sMGqHb-0xV7E",
        "colab": {
          "base_uri": "https://localhost:8080/",
          "height": 282
        },
        "outputId": "095ae633-c2e2-4efc-e4c7-533c5ba0b72d"
      },
      "execution_count": null,
      "outputs": [
        {
          "output_type": "execute_result",
          "data": {
            "text/plain": [
              "<matplotlib.axes._subplots.AxesSubplot at 0x7fa45501b070>"
            ]
          },
          "metadata": {},
          "execution_count": 44
        },
        {
          "output_type": "display_data",
          "data": {
            "text/plain": [
              "<Figure size 432x288 with 2 Axes>"
            ],
            "image/png": "[encoded data removed]"
          },
          "metadata": {
            "needs_background": "light"
          }
        }
      ]
    },
    {
      "cell_type": "markdown",
      "source": [
        "# 6. PCA \n"
      ],
      "metadata": {
        "id": "l3ohmCznDLW0"
      }
    },
    {
      "cell_type": "markdown",
      "source": [
        "## Back to feature engineering\n",
        "\n",
        "In the following we will try to train same model:Kmeans but on a reduced dataset using the PCA (Principle Component Analysis).\n",
        "\n",
        "PCA allows to project the data from the original 64-dimensional space into a lower dimensional space. Subsequently, we can use PCA to project into a 2-dimensional space and plot the data and the clusters in this new space.\n"
      ],
      "metadata": {
        "id": "_-EQa60OrCsH"
      }
    },
    {
      "cell_type": "code",
      "source": [
        "#Project into a 2-dimensional space\n",
        "pca = PCA(n_components=2).fit(X_train)\n",
        "\n",
        "reduced_X_train = pca.transform(X_train)\n",
        "\n",
        "h = .01     # point in the mesh [x_min, m_max]x[y_min, y_max]\n",
        "\n",
        "# Plot the decision boundary, For that, we will asign a color to each\n",
        "\n",
        "x_min, x_max = reduced_X_train[:, 0].min() + 1, reduced_X_train[:, 0].max() - 1\n",
        "\n",
        "y_min, y_max = reduced_X_train[:, 1].min() + 1, reduced_X_train[:, 1].max() - 1\n",
        "\n",
        "xx, yy = np.meshgrid(np.arange(x_min, x_max, h), np.arange(y_min, y_max, h))\n",
        "\n",
        "\n",
        "#Always th enmber of clusters is same as number of digits \n",
        "\n",
        "kmeans = KMeans(init='k-means++', n_clusters=n_digits, n_init=10)\n",
        "#Now the Kmeans is trained on the reduced dataset : \"reduced_X_train\": \n",
        "\n",
        "kmeans.fit(reduced_X_train)\n",
        "Z = kmeans.predict(np.c_[xx.ravel(), yy.ravel()])\n",
        "\n",
        "# Put the result into a color plot\n",
        "\n",
        "Z = Z.reshape(xx.shape)\n",
        "plt.figure(1)\n",
        "plt.clf()\n",
        "plt.imshow(Z, interpolation='nearest',\n",
        "          extent=(xx.min(), xx.max(), yy.min(), yy.max()),\n",
        "          cmap=plt.cm.Paired,\n",
        "          aspect='auto', origin='lower')\n",
        "#print reduced_X_train.shape\n",
        "\n",
        "plt.plot(reduced_X_train[:, 0], reduced_X_train[:, 1], 'k.', markersize=2)\n",
        "# Plot the centroids as a white X\n",
        "centroids = kmeans.cluster_centers_\n",
        "\n",
        "plt.scatter(centroids[:, 0], centroids[:, 1],\n",
        "           marker='.', s=169, linewidths=3,\n",
        "           color='w', zorder=10)\n",
        "\n",
        "plt.title('K-means clustering on the digits dataset (PCA-reduced data)\\n'\n",
        "         'Centroids are marked with white dots')\n",
        "plt.xlim(x_min, x_max)\n",
        "plt.ylim(y_min, y_max)\n",
        "plt.xticks(())\n",
        "plt.yticks(())\n",
        "plt.show()"
      ],
      "metadata": {
        "id": "MYNLEEqyxoFM",
        "colab": {
          "base_uri": "https://localhost:8080/",
          "height": 283
        },
        "outputId": "5d63387f-c812-439c-a0c6-10a1d33ec949"
      },
      "execution_count": null,
      "outputs": [
        {
          "output_type": "display_data",
          "data": {
            "text/plain": [
              "<Figure size 432x288 with 1 Axes>"
            ],
            "image/png": "[encoded data removed]"
          },
          "metadata": {}
        }
      ]
    },
    {
      "cell_type": "markdown",
      "source": [
        "<a name=\"ex_4\"></a>\n",
        "## Exercise 4"
      ],
      "metadata": {
        "id": "dFChIPcuRVEJ"
      }
    },
    {
      "cell_type": "code",
      "source": [
        "# Using link to documentation : https://scikit-learn.org/stable/modules/generated/sklearn.decomposition.PCA.html \n",
        "\n",
        "#Tell if it's possible to use more components (parameter: n_components=3)\n",
        "#If YES: \n",
        "#Rewrite the code block and readjust it to the new kept dimention (3)\n",
        "\n",
        "#If NOT: \n",
        "#Explain why\n",
        "#X has 2 features, but KMeans is expecting 3 features as input.  The dimensions don't match"
      ],
      "metadata": {
        "id": "nCf2a0VGRW-Y"
      },
      "execution_count": null,
      "outputs": []
    },
    {
      "cell_type": "markdown",
      "source": [
        "# References"
      ],
      "metadata": {
        "id": "88L07mG8qpkt"
      }
    },
    {
      "cell_type": "markdown",
      "source": [
        "[1] https://scikit-learn.org/stable/auto_examples/cluster/plot_mini_batch_kmeans.html#sphx-glr-auto-examples-cluster-plot-mini-batch-kmeans-py \n",
        "\n",
        "[2] https://scikit-learn.org/stable/auto_examples/cluster/plot_kmeans_stability_low_dim_dense.html#sphx-glr-auto-examples-cluster-plot-kmeans-stability-low-dim-dense-py\n",
        "\n",
        "[3] https://scikit-learn.org/stable/auto_examples/cluster/plot_cluster_iris.html#sphx-glr-auto-examples-cluster-plot-cluster-iris-py \n",
        "\n",
        "[4] https://scikit-learn.org/stable/auto_examples/cluster/plot_kmeans_silhouette_analysis.html#sphx-glr-auto-examples-cluster-plot-kmeans-silhouette-analysis-py \n",
        "\n",
        "[5] https://scikit-learn.org/stable/auto_examples/text/plot_document_clustering.html#sphx-glr-auto-examples-text-plot-document-clustering-py \n",
        "\n",
        "[6] https://pandas.pydata.org/docs/user_guide/index.html#user-guide \n",
        "\n",
        "[7] https://numpy.org/doc/stable/user/index.html#user \n",
        "\n",
        "[8] https://scikit-learn.org/stable/user_guide.html \n",
        "\n",
        "\n",
        "[9] https://seaborn.pydata.org/tutorial.html \n",
        "\n",
        "[10] https://matplotlib.org/stable/index.html \n",
        "\n",
        "\n",
        "[11] https://realpython.com/k-means-clustering-python/ \n",
        "\n",
        "\n",
        "[12] https://github.com/milaan9/Clustering_Algorithms_from_Scratch/tree/main/02_Python\n",
        "\n",
        "\n",
        "[13] https://github.com/rezacsedu/Deep-Learning-for-Clustering-in-Bioinformatics/tree/master/Notebooks \n",
        "\n",
        "\n",
        "[14] https://github.com/at-tan/Hierarchical_Clustering_of_Currencies/blob/main/fx_clustering.ipynb \n",
        "\n",
        "\n",
        "[15] https://github.com/zhoushengisnoob/DeepClustering\n",
        "\n",
        "[16] https://scikit-learn.org/stable/modules/clustering.html \n",
        "\n",
        "\n",
        "[17] https://github.com/ahegel/genre-ML-clustering\n",
        "\n",
        "\n",
        "[18] https://github.com/durgeshsamariya/awesome-clustering-resources"
      ],
      "metadata": {
        "id": "8l9OtDvI2KYE"
      }
    },
    {
      "cell_type": "code",
      "source": [],
      "metadata": {
        "id": "r0FVTfo1qtuq"
      },
      "execution_count": null,
      "outputs": []
    }
  ]
}